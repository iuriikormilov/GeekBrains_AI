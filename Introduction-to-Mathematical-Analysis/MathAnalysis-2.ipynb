{
 "cells": [
  {
   "cell_type": "markdown",
   "metadata": {},
   "source": [
    "<h2>Тема “Предел функции”</h2>\n",
    "<h4> 1.Предложить пример функции, не имеющей предела в нуле и в бесконечностях.</h4>\n",
    "<p>Функция не имеющая предела в нуле: $f(x) = \\sin(\\frac{1}{x})$</p>\n",
    "<p>Функция не имеющая предела в бесконечности: $f(x) = \\arctan(x)$ (Википедия гласит, что раз при разных знаках бесконечностей предел функции стремится к разным знакам, то на бесконечности предел не определен, хотя у меня сомнения)</p>"
   ]
  },
  {
   "cell_type": "markdown",
   "metadata": {},
   "source": [
    "<h4>2.Привести пример функции, не имеющей предела в точке, но определенной в ней.</h4>\n",
    "<p> например $\\lim\\limits_{x \\to 0} \\frac{\\sin(2x)}{4x} $"
   ]
  },
  {
   "cell_type": "markdown",
   "metadata": {},
   "source": [
    "<h4>3.Исследовать функцию $f(x) = x^3 - x^2$ по плану:</h4>\n",
    "<p>Область задания и область значений: Все вещественные числа</p> \n",
    "<p>Нули функции и их кратность: 0 (кратность 2) и 1</p> \n",
    "<p>Отрезки знакопостоянства: от - бесконечности до 0, от 0 до 1, от 1 до + бесконечности</p>\n",
    "<p>Интервалы монотонности: от - бесконечности до 0, от 0 до 2/3, от 2/3 до + бесконечности</p>\n",
    "<p>Четность функции: ни чётная, ни нечётная</p>\n",
    "<p>Ограниченность: неограничена сверху и неограничена снизу</p>\n",
    "<p>Периодичность: не периодична</p>\n"
   ]
  },
  {
   "cell_type": "markdown",
   "metadata": {},
   "source": [
    "<h4>4. Найти предел:</h4>\n",
    "<p>  1. $\\lim\\limits_{x \\to \\infty}\\frac{\\sin x + \\ln x}{x} $ a. Оставляем высшую степень, подставляем 0, ответ: 0</p>\n",
    "<p>  2. $\\lim \\limits_ {x \\to 0 }  \\frac {\\sqrt {1+x}-1} {\\sqrt[3] {1+x}-1}$ = $\\lim \\limits_ {x \\to 0 }  \\frac{3(1 + x)^{2/3}}{2\\sqrt(1+x)}  = \\frac{3}2$</p>\n",
    "<p>  3. $\\lim \\limits_ {x \\to \\infty } \\Big (\\frac  {x+3}{x}\\Big ) ^{4x+1}$</p>"
   ]
  },
  {
   "cell_type": "markdown",
   "metadata": {},
   "source": [
    "<h2>Тема “Теоремы о пределах”</h2>\n",
    "<h4>Найти предел:</h4>"
   ]
  },
  {
   "cell_type": "markdown",
   "metadata": {},
   "source": [
    "1.  $\\lim\\limits_{x \\to 0} \\frac{\\sin(2x)}{4x} = \\lim\\limits_{x \\to 0} \\frac{\\cos(2x)}{2} =\\frac{1}{2} $"
   ]
  },
  {
   "cell_type": "markdown",
   "metadata": {},
   "source": [
    "2.  $\\lim\\limits_{x \\to 0} \\frac{x}{sin(x)} = \\lim\\limits_{x \\to 0} \\frac{1}{cos(x)} = 1 $"
   ]
  },
  {
   "cell_type": "markdown",
   "metadata": {},
   "source": [
    "3.  $\\lim\\limits_{x \\to 0} \\frac{x}{arcsin(x)} = \\lim\\limits_{x \\to 0} \\sqrt{1 - x^2} =1 $"
   ]
  },
  {
   "cell_type": "markdown",
   "metadata": {},
   "source": [
    "4.  $\\lim\\limits_{x \\to \\infty}\\Big(\\frac{4x+3}{4x - 3}\\Big)^{6x} $"
   ]
  },
  {
   "cell_type": "markdown",
   "metadata": {},
   "source": [
    "5.  $\\lim\\limits_{x \\to \\infty}\\frac{\\sin x + \\ln x}{x} $"
   ]
  },
  {
   "cell_type": "markdown",
   "metadata": {},
   "source": [
    "6.  $\\lim\\limits_{x \\to 0}\\frac{\\sin x + \\ln x}{x} $"
   ]
  },
  {
   "cell_type": "code",
   "execution_count": null,
   "metadata": {},
   "outputs": [],
   "source": []
  }
 ],
 "metadata": {
  "kernelspec": {
   "display_name": "Python 3",
   "language": "python",
   "name": "python3"
  },
  "language_info": {
   "codemirror_mode": {
    "name": "ipython",
    "version": 3
   },
   "file_extension": ".py",
   "mimetype": "text/x-python",
   "name": "python",
   "nbconvert_exporter": "python",
   "pygments_lexer": "ipython3",
   "version": "3.7.3"
  }
 },
 "nbformat": 4,
 "nbformat_minor": 2
}
