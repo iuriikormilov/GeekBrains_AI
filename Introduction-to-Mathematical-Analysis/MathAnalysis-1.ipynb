{
 "cells": [
  {
   "cell_type": "markdown",
   "metadata": {},
   "source": [
    "<h2>Тема 1 “Введение в математических анализ”</h2>\n",
    "<p>1. Как относятся друг к другу множество и последовательность? (в ответе использовать слова типа: часть, целое, общее, частное, родитель, дочерний субъект и т.д.)</p>\n",
    "<i>Последовательность - множество, дочерние субъекты которого пронумерованы натуральными числами. </i>"
   ]
  },
  {
   "cell_type": "markdown",
   "metadata": {},
   "source": [
    "<p>2. Прочитать высказывания математической логики, построить их отрицания и установить истинность.</p>\n",
    "\n",
    "<b><p>Я плохо поняла эту тему, так что возможно будет лучше, если я потом ее переделаю. Не понимаю какие именно части выражения надо инвертировать.</p></b>\n",
    "\n",
    "$\\forall{y}\\in [0; 1]: sgn(y) = 1$\n",
    "<p><i>для любого y принадлежащего интервалу [0; 1] сигнум у равен 1</i></p>\n",
    "<p><i>Отрицание $\\exists{y}\\notin [0; 1]: sgn(y) \\neq 1$</i></p>\n",
    "<p><i>По определению сигнума: sgn(y) = 1 при y > 0 следовательно высказывание ложно</i>"
   ]
  },
  {
   "cell_type": "markdown",
   "metadata": {},
   "source": [
    "$\\forall{n}\\in \\mathbb{N}>2:\\exists x, y, z \\in \\mathbb{N}: x^n = y^n + z^n$\n",
    "<p><i>Для любого n принадлежащего множеству натуральных чисел и больше 2 существуют такие x, y и z принадлежащие множеству натуральных чисел для которых $x^n = y^n + z^n$</i></p>\n",
    "<p><i>Отрицание $\\exists{n}\\in \\mathbb{N}\\leqslant2:\\forall x, y, z \\in \\mathbb{N}: x^n \\neq y^n + z^n$</i></p>\n",
    "<p><i>Высказывание ложно</i></p>\n",
    "<p><i></i></p>\n",
    "<p><i></i></p>"
   ]
  },
  {
   "cell_type": "markdown",
   "metadata": {},
   "source": [
    "$\\forall{x}\\in \\mathbb{R}\\exists X \\in \\mathbb{R}:X > x$\n",
    "<p><i>Для любого x принадлежащего множеству вещественных чисел существует X принадлежащее множеству вещественных чисел такое что X > x</i></p>\n",
    "<p><i>Отрицание $\\exists{x}\\in \\mathbb{R}\\forall X \\in \\mathbb{R}:X \\leqslant x$</i></p>\n",
    "<p><i>Высказывание истинно</i></p>\n",
    "<p><i></i></p>"
   ]
  },
  {
   "cell_type": "markdown",
   "metadata": {},
   "source": [
    "$\\forall{x}\\in \\mathbb{C}\\nexists y \\in \\mathbb{C} : {x > y} || {x < y}$\n",
    "<p><i>Для любого x принадлежащего множеству комплексных чисел не существует такого y принадлежащего множеству комплексных чисел такого что $ x > y $ или $ x < y$ </i></p>\n",
    "<p><i>Отрицание $\\exists{x}\\in \\mathbb{C}\\exists y \\in \\mathbb{C} : {x > y}, {x < y}$</i></p>\n",
    "<p><i></i></p>"
   ]
  },
  {
   "cell_type": "markdown",
   "metadata": {},
   "source": [
    "$\\forall{y} \\in [0; \\frac{\\pi}{2}]\\exists \\varepsilon > 0 : \\sin{y} < \\sin{(y + \\varepsilon)}$\n",
    "<p><i>Отрицание $\\exists{y} \\in [0; \\frac{\\pi}{2}]\\forall \\varepsilon > 0 : \\sin{y} >= \\sin{(y + \\varepsilon)}$</i></p>\n",
    "<p><i></i></p>"
   ]
  },
  {
   "cell_type": "markdown",
   "metadata": {},
   "source": [
    "$\\forall{y} \\in [0; \\pi)\\exists \\varepsilon > 0 : \\cos{y} > \\cos{(y + \\varepsilon)}$\n",
    "<p><i></i></p>\n",
    "<p><i></i></p>\n",
    "<p><i></i></p>"
   ]
  },
  {
   "attachments": {},
   "cell_type": "markdown",
   "metadata": {},
   "source": [
    "$\\exists{x}:x \\notin \\{\\mathbb{N}, \\mathbb{Z}, \\mathbb{Q}, \\mathbb{R}, \\mathbb{C}\\}$\n",
    "<p><i>Существует х не принадлежащее к множеству натуральных, целых, рациональных, вещественных и комплексных чисел. </i></p>\n",
    "<p><i>Отрицание $\\forall{x}:x \\in \\{\\mathbb{N}, \\mathbb{Z}, \\mathbb{Q}, \\mathbb{R}, \\mathbb{C}\\}$</i></p>\n",
    "<p><i>Если учесть информацию про гиперкомплексные числа, то высказывание истинно.</i></p>\n"
   ]
  },
  {
   "cell_type": "markdown",
   "metadata": {},
   "source": [
    "<h2>Тема 2 “Множество”</h2>\n",
    "Даны три множества A, B и C. Необходимо выполнить все изученные виды бинарных операций над всеми комбинациями множеств.\n",
    "(Выполнить задание на языке Python)"
   ]
  },
  {
   "cell_type": "markdown",
   "metadata": {},
   "source": [
    "A = {a, b, c, d, e}; B = {b, c, e}; C = {a, d, i, h}"
   ]
  },
  {
   "cell_type": "code",
   "execution_count": 1,
   "metadata": {},
   "outputs": [
    {
     "name": "stdout",
     "output_type": "stream",
     "text": [
      "A | B {'d', 'e', 'a', 'b', 'c'}\n",
      "A | C {'d', 'a', 'i', 'e', 'b', 'h', 'c'}\n",
      "C | B {'i', 'd', 'e', 'a', 'b', 'h', 'c'}\n",
      "A | B | C {'d', 'a', 'i', 'e', 'b', 'h', 'c'}\n"
     ]
    }
   ],
   "source": [
    "A = set('abcde')\n",
    "B = set('bce')\n",
    "C = set('adih')\n",
    "\n",
    "print('A | B', A | B)\n",
    "print('A | C', A | C)\n",
    "print('C | B', C | B)\n",
    "print('A | B | C', A | B | C)"
   ]
  },
  {
   "cell_type": "code",
   "execution_count": 2,
   "metadata": {},
   "outputs": [
    {
     "name": "stdout",
     "output_type": "stream",
     "text": [
      "A & B {'b', 'e', 'c'}\n",
      "A & C {'d', 'a'}\n",
      "C & B set()\n",
      "A & B & C set()\n"
     ]
    }
   ],
   "source": [
    "print('A & B', A & B)\n",
    "print('A & C', A & C)\n",
    "print('C & B', C & B)\n",
    "print('A & B & C', A & B & C)"
   ]
  },
  {
   "cell_type": "code",
   "execution_count": 3,
   "metadata": {},
   "outputs": [
    {
     "name": "stdout",
     "output_type": "stream",
     "text": [
      "A - B {'d', 'a'}\n",
      "A - C {'b', 'e', 'c'}\n",
      "C - B {'i', 'd', 'h', 'a'}\n",
      "B - A set()\n",
      "C - A {'i', 'h'}\n",
      "B - C {'b', 'e', 'c'}\n",
      "A - B - C set()\n"
     ]
    }
   ],
   "source": [
    "print('A - B', A - B)\n",
    "print('A - C', A - C)\n",
    "print('C - B', C - B)\n",
    "print('B - A', B - A)\n",
    "print('C - A', C - A)\n",
    "print('B - C', B - C)\n",
    "print('A - B - C', A - B - C)"
   ]
  },
  {
   "cell_type": "code",
   "execution_count": 4,
   "metadata": {},
   "outputs": [
    {
     "name": "stdout",
     "output_type": "stream",
     "text": [
      "A ^ B {'d', 'a'}\n",
      "A ^ C {'i', 'e', 'b', 'h', 'c'}\n",
      "C ^ B {'d', 'a', 'i', 'e', 'b', 'h', 'c'}\n",
      "A ^ B ^ C {'i', 'h'}\n"
     ]
    }
   ],
   "source": [
    "print('A ^ B', A ^ B)\n",
    "print('A ^ C', A ^ C)\n",
    "print('C ^ B', C ^ B)\n",
    "print('A ^ B ^ C', A ^ B ^ C)"
   ]
  },
  {
   "cell_type": "code",
   "execution_count": 5,
   "metadata": {},
   "outputs": [
    {
     "name": "stdout",
     "output_type": "stream",
     "text": [
      "A & B | C {'i', 'e', 'd', 'a', 'b', 'h', 'c'}\n",
      "A & C | B {'d', 'e', 'a', 'b', 'c'}\n",
      "C ^ B - A {'i', 'd', 'h', 'a'}\n",
      "A | B - C {'d', 'e', 'a', 'b', 'c'}\n",
      "A & C ^ B {'d', 'a', 'e', 'b', 'c'}\n",
      "C | A - B {'i', 'd', 'a', 'h'}\n"
     ]
    }
   ],
   "source": [
    "print('A & B | C', A & B | C)\n",
    "print('A & C | B', A & C | B)\n",
    "print('C ^ B - A', C ^ B - A)\n",
    "print('A | B - C', A | B - C)\n",
    "print('A & C ^ B', A & C ^ B)\n",
    "print('C | A - B', C | A - B)"
   ]
  },
  {
   "cell_type": "markdown",
   "metadata": {},
   "source": [
    "<h2>Тема 3 “Последовательность”</h2>\n",
    "<p>1. Даны 4 последовательности. Необходимо:</p>\n",
    "    <p>  - исследовать их на монотонность;</p> \n",
    "    <p>  - исследовать на ограниченность;</p>\n",
    "    <p>  - найти пятый по счету член.</p>\n",
    "\n",
    "${{a_n}}^\\infty_{n=1} = 2^n - n$ - *монотонно возрастающая, не ограничена сверху* $a_5 = 27$</p>\n",
    "<p>${{b_n}}^\\infty_{n=2} = \\frac{1}{1-n}$ - <i>монотонно возрастающая, стремится к нулю с минусовой стороны</i> $b_5 = -0.25$</p>\n",
    "<p>${{c_n}}^\\infty_{n=1} = -1^n + \\sqrt{2n}$ - <i>не монотонная, не ограниченна сверху </i>$c_5 = 2.16$</p>\n",
    "<p>${{d_n}}^\\infty_{n=1} = (-1)^2n + \\frac{1}{n^2}$ - <i>монотонно возрастающая последовательность при n > 1, на ограниченна сверху</i> $d_5 = 5.04$\n",
    "\n",
    "\n"
   ]
  },
  {
   "cell_type": "markdown",
   "metadata": {},
   "source": [
    "\n",
    "<p>2. Найти 12-й член заданной неявно последовательности</p>\n",
    "\n",
    "$a_1 = 128, a_{n+1} - a_n = 6$ $a_12 = a_1 + (12-1)(a_{n+1} - a_n) = 194$"
   ]
  },
  {
   "cell_type": "markdown",
   "metadata": {},
   "source": [
    "<p>3. На языке Python предложить алгоритм вычисляющий численно предел с точностью $\\varepsilon = 10^{-7}$ </p>\n",
    "$$\\lim_{n\\to\\infty}\n",
    "\\left(\n",
    "{\\frac{n}{\\sqrt[n]{n!}}}\n",
    "\\right)$$\n",
    "\n",
    "<p>Предложить оптимизацию алгоритма, полученного в задании 3, ускоряющую его сходимость.</p>"
   ]
  },
  {
   "cell_type": "code",
   "execution_count": 6,
   "metadata": {},
   "outputs": [],
   "source": [
    "from sympy import *"
   ]
  },
  {
   "cell_type": "code",
   "execution_count": 7,
   "metadata": {},
   "outputs": [
    {
     "data": {
      "text/plain": [
       "E"
      ]
     },
     "execution_count": 7,
     "metadata": {},
     "output_type": "execute_result"
    }
   ],
   "source": [
    "n = symbols('n')\n",
    "limit((n/(factorial(n)**(1/n))),n,oo)"
   ]
  },
  {
   "cell_type": "code",
   "execution_count": 8,
   "metadata": {},
   "outputs": [
    {
     "data": {
      "text/plain": [
       "(1, n)"
      ]
     },
     "execution_count": 8,
     "metadata": {},
     "output_type": "execute_result"
    }
   ],
   "source": [
    "(diff(n), n)"
   ]
  },
  {
   "cell_type": "code",
   "execution_count": 9,
   "metadata": {},
   "outputs": [
    {
     "data": {
      "text/plain": [
       "((gamma(n + 1)*polygamma(0, n + 1)/(n*factorial(n)) - log(factorial(n))/n**2)*factorial(n)**(1/n),\n",
       " n)"
      ]
     },
     "execution_count": 9,
     "metadata": {},
     "output_type": "execute_result"
    }
   ],
   "source": [
    "(diff(factorial(n)**(1/n)) ,n)"
   ]
  },
  {
   "cell_type": "code",
   "execution_count": 10,
   "metadata": {},
   "outputs": [
    {
     "data": {
      "text/plain": [
       "E"
      ]
     },
     "execution_count": 10,
     "metadata": {},
     "output_type": "execute_result"
    }
   ],
   "source": [
    "# по правилу лопиталя возьмем производные от числителя и знаменателя\n",
    "limit((diff(n)/diff(factorial(n)**(1/n))),n,oo)"
   ]
  },
  {
   "cell_type": "code",
   "execution_count": 11,
   "metadata": {},
   "outputs": [
    {
     "data": {
      "text/plain": [
       "E"
      ]
     },
     "execution_count": 11,
     "metadata": {},
     "output_type": "execute_result"
    }
   ],
   "source": [
    "limit(1/((gamma(n + 1)*polygamma(0, n + 1)/(n*factorial(n)) - log(factorial(n))/n**2)*factorial(n)**(1/n)), n, oo)"
   ]
  },
  {
   "cell_type": "code",
   "execution_count": null,
   "metadata": {},
   "outputs": [],
   "source": []
  }
 ],
 "metadata": {
  "kernelspec": {
   "display_name": "Python 3",
   "language": "python",
   "name": "python3"
  },
  "language_info": {
   "codemirror_mode": {
    "name": "ipython",
    "version": 3
   },
   "file_extension": ".py",
   "mimetype": "text/x-python",
   "name": "python",
   "nbconvert_exporter": "python",
   "pygments_lexer": "ipython3",
   "version": "3.7.3"
  }
 },
 "nbformat": 4,
 "nbformat_minor": 2
}
