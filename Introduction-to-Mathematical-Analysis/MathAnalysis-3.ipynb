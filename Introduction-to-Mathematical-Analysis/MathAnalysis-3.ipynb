{
 "cells": [
  {
   "cell_type": "markdown",
   "metadata": {},
   "source": [
    "<h2>Тема 6 “Понятие о производной”</h2>\n",
    "<h4>Найти производную выражения:</h4>\n",
    "<p>$(\\sin x \\cdot \\cos x )'$ = $\\cos^2 x - \\sin^2 x$        </p>\n",
    "<p>$(\\ln(2x+1)^3)'$ = $ \\frac{6\\ln(2x+1)^2}{2x + 1}$       </p>\n",
    "<p>$(\\sqrt{\\sin^2(\\ln(x^3))})'$ = $\\frac{3\\sqrt{\\sin^2(\\ln(x^3))}\\cot(\\ln(x^3))}{x}$   </p>\n",
    "<p>$(\\frac{x^4}{\\ln(x)})'$  = $\\frac{x^3 (4\\ln(x) - 1)}{\\ln(x)^2}$     </p>"
   ]
  },
  {
   "cell_type": "markdown",
   "metadata": {},
   "source": [
    "<h4>Найти выражение производной функции и ее значение в точке:</h4>\n",
    "\n",
    "<p>$f(x)=\\cos(x^2+3x)\\text{,   }x_0=\\sqrt\\pi $</p>"
   ]
  },
  {
   "cell_type": "markdown",
   "metadata": {},
   "source": [
    "$f(x)'=-(3+2x)\\sin(x^2+3x)$\n",
    "<p>$f(x_0)'=(3+2\\sqrt\\pi)\\sin(3\\sqrt\\pi)$"
   ]
  },
  {
   "cell_type": "code",
   "execution_count": 1,
   "metadata": {},
   "outputs": [],
   "source": [
    "import numpy as np"
   ]
  },
  {
   "cell_type": "code",
   "execution_count": 2,
   "metadata": {},
   "outputs": [
    {
     "data": {
      "text/plain": [
       "-5.383302410890619"
      ]
     },
     "execution_count": 2,
     "metadata": {},
     "output_type": "execute_result"
    }
   ],
   "source": [
    "-(3 + 2*np.sqrt(np.pi))*np.sin(np.sqrt(np.pi)**2 + 3*np.sqrt(np.pi))"
   ]
  },
  {
   "cell_type": "markdown",
   "metadata": {},
   "source": [
    "<h4>Найти значение производной функции в точке:</h4>\n",
    "<p>$f(x)=\\frac{x^3-x^2-x-1}{1+2x+3x^2-4x^3}\\text{,   }x_0=0$</p>"
   ]
  },
  {
   "cell_type": "markdown",
   "metadata": {},
   "source": [
    "<p>$f(x_0)'=\\frac{x^4+4x^3+8x^2-4x-1}{(1+2x+3x^2-4x^3)^2} = -1$</p>"
   ]
  },
  {
   "cell_type": "markdown",
   "metadata": {},
   "source": [
    "<h4>Найти угол наклона касательной к графику функции в точке:</h4>\n",
    "<p>$f(x)=\\sqrt{3x}\\cdot \\ln x, x_0 = 1$</p>"
   ]
  },
  {
   "cell_type": "markdown",
   "metadata": {},
   "source": [
    "<p>$f(x)'=\\frac{\\sqrt{3x}(2 + \\ln x)}{2\\sqrt{x}} $ </p>\n",
    "<p> Подставим $x_0 = 1$, получим $\\sqrt{3}$, угол наклона равен 60 градусам</p>"
   ]
  },
  {
   "cell_type": "code",
   "execution_count": null,
   "metadata": {},
   "outputs": [],
   "source": []
  }
 ],
 "metadata": {
  "kernelspec": {
   "display_name": "Python 3",
   "language": "python",
   "name": "python3"
  },
  "language_info": {
   "codemirror_mode": {
    "name": "ipython",
    "version": 3
   },
   "file_extension": ".py",
   "mimetype": "text/x-python",
   "name": "python",
   "nbconvert_exporter": "python",
   "pygments_lexer": "ipython3",
   "version": "3.7.3"
  }
 },
 "nbformat": 4,
 "nbformat_minor": 2
}
