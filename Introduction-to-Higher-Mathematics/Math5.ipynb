{
 "cells": [
  {
   "cell_type": "code",
   "execution_count": 1,
   "metadata": {},
   "outputs": [],
   "source": [
    "import pandas as pd\n",
    "import numpy as np\n",
    "import matplotlib.pyplot as plt"
   ]
  },
  {
   "cell_type": "markdown",
   "metadata": {},
   "source": [
    "<h3>Задания к уроку 5</h3>\n",
    "<b>1.</b> Напишите код, моделирующий выпадение поля в рулетке (с учетом поля зеро)."
   ]
  },
  {
   "cell_type": "code",
   "execution_count": 2,
   "metadata": {},
   "outputs": [
    {
     "name": "stdout",
     "output_type": "stream",
     "text": [
      "В 1-ом опыте выпало:\n",
      "красное поле  27\n",
      "В 2-ом опыте выпало:\n",
      "черное поле  33\n",
      "В 3-ом опыте выпало:\n",
      "красное поле  34\n",
      "В 4-ом опыте выпало:\n",
      "красное поле  18\n",
      "В 5-ом опыте выпало:\n",
      "красное поле  3\n",
      "В 6-ом опыте выпало:\n",
      "красное поле  14\n",
      "В 7-ом опыте выпало:\n",
      "красное поле  3\n",
      "В 8-ом опыте выпало:\n",
      "красное поле  7\n",
      "В 9-ом опыте выпало:\n",
      "черное поле  29\n",
      "В 10-ом опыте выпало:\n",
      "черное поле  13\n"
     ]
    }
   ],
   "source": [
    "# Колесо европейской рулетки разбито на 37 секторов: 36 пронумерованных \n",
    "# от 1 до 36 ячеек и плюс «зеро». Числа расположены в случайном порядке.\n",
    "def move_roulette():\n",
    "    val = np.random.randint(0,37)\n",
    "    if val == 0:\n",
    "        print(\"Зеро\")\n",
    "    elif val in [3, 12, 7, 18, 9, 14, 1, 16, 5, 23, 30, 36, 27, 34, 25, \n",
    "               21, 19, 32]:\n",
    "        print(\"красное поле \", val)\n",
    "    else:\n",
    "        print(\"черное поле \", val)\n",
    "    return None\n",
    "for i in range(0, 10):\n",
    "    print(f\"В {i+1}-ом опыте выпало:\")\n",
    "    move_roulette()"
   ]
  },
  {
   "cell_type": "markdown",
   "metadata": {},
   "source": [
    "<b>2.</b> Напишите код, проверяющий любую из теорем сложения или умножения вероятности на примере рулетки или подбрасывания монетки.\n",
    "<p>Пусть событие A выпадение красного поля, а событие B выпадение черного поля, тогда P(A)=18/37, P(B)=18/37, тогда вероятность выпадения красного или черного поля равна $P(A+B)=36/37$</p>\n",
    "<p>Пусть событие A выпадение красного поля в первый раз, а событие B выпадение красного поля во второй раз. Эти события независимы и следовательно $$P(AB)=P(A)P(B)=\\left({\\frac{18}{37}}\\right)^2$$ </p>"
   ]
  },
  {
   "cell_type": "markdown",
   "metadata": {},
   "source": [
    "Пусть рулетку крутят 9 раз, х - выпадение красного поля, n - количество выпадений"
   ]
  },
  {
   "cell_type": "code",
   "execution_count": 3,
   "metadata": {},
   "outputs": [
    {
     "name": "stdout",
     "output_type": "stream",
     "text": [
      "0.00248 0.002\n",
      "0.02117 0.024\n",
      "0.08022 0.104\n",
      "0.17734 0.281\n",
      "0.25201 0.533\n",
      "0.23874 0.772\n",
      "0.15079 0.923\n",
      "0.06122 0.984\n",
      "0.0145 0.998\n",
      "0.00153 1.0\n"
     ]
    }
   ],
   "source": [
    "p = 18/37\n",
    "q = (1 - p)\n",
    "sumP = 0\n",
    "arP = []\n",
    "arSum = []\n",
    "for i in range(0, 10):\n",
    "    binom = np.math.factorial(9)/(np.math.factorial(i)*np.math.factorial(9-i))\n",
    "    P = binom*(p**i)*(q**(9-i))\n",
    "    sumP = sumP+P\n",
    "    print(np.around(P, decimals=5), np.around(sumP, decimals=3))\n",
    "    arP.append(P)\n",
    "    arSum.append(sumP)\n",
    "# print(arP)"
   ]
  },
  {
   "cell_type": "markdown",
   "metadata": {},
   "source": [
    "| $x_n$ | $x_0$ | $x_1$ | $x_2$ | $x_3$ | $x_4$ | $x_5$ | $x_6$ | $x_7$ | $x_8$ | $x_9$ |\n",
    "| ---   | ---   | ---   | ---   | ---   | ---   | ---   | ---   | ---   | --- | ---   |\n",
    "|   x   |   0   |   1   |   2   |   3   |   4   |   5   |   6   |   7   |   8   |   9   |\n",
    "|   P   | 0.00248 | 0.02117 |0.08022|0.17734|0.25201|0.23874|0.15079|0.06122|0.0145|0.00153|"
   ]
  },
  {
   "cell_type": "code",
   "execution_count": 4,
   "metadata": {},
   "outputs": [
    {
     "data": {
      "image/png": "[encoded data removed]",
      "text/plain": [
       "<Figure size 432x288 with 1 Axes>"
      ]
     },
     "metadata": {
      "needs_background": "light"
     },
     "output_type": "display_data"
    }
   ],
   "source": [
    "n = range(0, 10)\n",
    "plt.bar(n, arSum)\n",
    "plt.bar(n, arP);"
   ]
  },
  {
   "cell_type": "markdown",
   "metadata": {},
   "source": [
    "<p>Сгенерируйте десять выборок случайных чисел $х_0, …, х_9$\n",
    "и постройте гистограмму распределения случайной суммы $х_0+х_1+ … +х_9$</p>"
   ]
  },
  {
   "cell_type": "code",
   "execution_count": 5,
   "metadata": {},
   "outputs": [
    {
     "data": {
      "image/png": "[encoded data removed]",
      "text/plain": [
       "<Figure size 432x288 with 1 Axes>"
      ]
     },
     "metadata": {
      "needs_background": "light"
     },
     "output_type": "display_data"
    }
   ],
   "source": [
    "n = 1000\n",
    "x0 = np.random.rand(n)\n",
    "x1 = np.random.rand(n)\n",
    "x2 = np.random.rand(n)\n",
    "x3 = np.random.rand(n)\n",
    "x4 = np.random.rand(n)\n",
    "x5 = np.random.rand(n)\n",
    "x6 = np.random.rand(n)\n",
    "x7 = np.random.rand(n)\n",
    "x8 = np.random.rand(n)\n",
    "x9 = np.random.rand(n)\n",
    "x = x0 + x1 + x2 + x3 + x4 + x5 + x6 + x7 + x8 + x9\n",
    "num_bins = 10\n",
    "n, bins, patches = plt.hist(x, num_bins)\n",
    "\n",
    "plt.xlabel('x')\n",
    "plt.ylabel('Probability')\n",
    "plt.title('Histogram');"
   ]
  },
  {
   "cell_type": "markdown",
   "metadata": {},
   "source": [
    "<b>3.</b> 1. Дополните код Монте-Карло последовательности независимых испытаний расчетом соответствующих вероятностей (через биномиальное распределение) \n",
    "и сравните результаты.\n"
   ]
  },
  {
   "cell_type": "code",
   "execution_count": 6,
   "metadata": {},
   "outputs": [
    {
     "name": "stdout",
     "output_type": "stream",
     "text": [
      "В 1-ом опыте выпало:\n",
      "  красное поле  1\n",
      "  Вероятность выпадения красного поля 1 из 9 раз:  0.02117\n",
      "В 2-ом опыте выпало:\n",
      "  черное поле  4\n",
      "  Вероятность выпадения черного поля 1 из 9 раз:  0.02117\n",
      "В 3-ом опыте выпало:\n",
      "  красное поле  34\n",
      "  Вероятность выпадения красного поля 2 из 9 раз:  0.08022\n",
      "В 4-ом опыте выпало:\n",
      "  черное поле  35\n",
      "  Вероятность выпадения черного поля 2 из 9 раз:  0.08022\n",
      "В 5-ом опыте выпало:\n",
      "  красное поле  27\n",
      "  Вероятность выпадения красного поля 3 из 9 раз:  0.17734\n",
      "В 6-ом опыте выпало:\n",
      "  черное поле  15\n",
      "  Вероятность выпадения черного поля 3 из 9 раз:  0.17734\n",
      "В 7-ом опыте выпало:\n",
      "  черное поле  29\n",
      "  Вероятность выпадения черного поля 4 из 9 раз:  0.25201\n",
      "В 8-ом опыте выпало:\n",
      "  черное поле  8\n",
      "  Вероятность выпадения черного поля 5 из 9 раз:  0.23874\n",
      "В 9-ом опыте выпало:\n",
      "  красное поле  14\n",
      "  Вероятность выпадения красного поля 4 из 9 раз:  0.25201\n"
     ]
    }
   ],
   "source": [
    "def monte_carlo(N):\n",
    "    p1 = 1/37 # выпадение зеро\n",
    "    p2 = 18/37 # выпадение красного или черного поля\n",
    "    q1 = (1 - p1)\n",
    "    q2 = (1 - p2)\n",
    "    j1 = j2 = j3 = 0\n",
    "    for i in range(0, N):\n",
    "        val = np.random.randint(0,37)\n",
    "        if val == 0:\n",
    "            print(f\"В {i+1}-ом опыте выпало:\")\n",
    "            print(\"  Зеро\")\n",
    "            j1 = j1 + 1\n",
    "            binom1 = np.math.factorial(N)/(np.math.factorial(j1)*np.math.factorial(N-j1))\n",
    "            P1 = binom1*(p1**j1)*(q1**(N-j1))\n",
    "            print(f\"  Вероятность выпадения зеро {j1} из {N} раз: \", np.around(P1, decimals=5))\n",
    "        elif val in [3, 12, 7, 18, 9, 14, 1, 16, 5, 23, 30, 36, 27, 34, 25, \n",
    "                   21, 19, 32]:\n",
    "            print(f\"В {i+1}-ом опыте выпало:\")\n",
    "            print(\"  красное поле \", val)\n",
    "            j2 += 1\n",
    "            binom2 = np.math.factorial(N)/(np.math.factorial(j2)*np.math.factorial(N-j2))\n",
    "            P2 = binom2*(p2**j2)*(q2**(N-j2))\n",
    "            print(f\"  Вероятность выпадения красного поля {j2} из {N} раз: \", np.around(P2, decimals=5))\n",
    "        else:\n",
    "            print(f\"В {i+1}-ом опыте выпало:\")\n",
    "            print(\"  черное поле \", val)\n",
    "            j3 += 1\n",
    "            binom3 = np.math.factorial(N)/(np.math.factorial(j3)*np.math.factorial(N-j3))\n",
    "            P3 = binom3*(p2**j3)*(q2**(N-j3))\n",
    "            print(f\"  Вероятность выпадения черного поля {j3} из {N} раз: \", np.around(P3, decimals=5))\n",
    "monte_carlo(9)"
   ]
  },
  {
   "cell_type": "markdown",
   "metadata": {},
   "source": [
    "<p>2. Повторите расчеты биномиальных коэффициентов и вероятностей $k$ успехов в последовательности из $n$ независимых испытаний, взяв другие значения $n$ и $k$.</p>"
   ]
  },
  {
   "cell_type": "code",
   "execution_count": 7,
   "metadata": {},
   "outputs": [
    {
     "name": "stdout",
     "output_type": "stream",
     "text": [
      "В 1-ом опыте выпало:\n",
      "  черное поле  31\n",
      "  Вероятность выпадения черного поля 1 из 5 раз:  0.16914\n",
      "В 2-ом опыте выпало:\n",
      "  черное поле  24\n",
      "  Вероятность выпадения черного поля 2 из 5 раз:  0.32048\n",
      "В 3-ом опыте выпало:\n",
      "  красное поле  23\n",
      "  Вероятность выпадения красного поля 1 из 5 раз:  0.16914\n",
      "В 4-ом опыте выпало:\n",
      "  красное поле  21\n",
      "  Вероятность выпадения красного поля 2 из 5 раз:  0.32048\n",
      "В 5-ом опыте выпало:\n",
      "  красное поле  9\n",
      "  Вероятность выпадения красного поля 3 из 5 раз:  0.30361\n"
     ]
    }
   ],
   "source": [
    "monte_carlo(5)"
   ]
  },
  {
   "cell_type": "markdown",
   "metadata": {},
   "source": [
    "<b>4.</b> Из урока по комбинаторике повторите расчеты, сгенерировав возможные варианты перестановок для других значений $n$ и $k$"
   ]
  },
  {
   "cell_type": "code",
   "execution_count": 8,
   "metadata": {},
   "outputs": [
    {
     "name": "stdout",
     "output_type": "stream",
     "text": [
      "45\n",
      "43\n",
      "42\n",
      "54\n",
      "53\n",
      "52\n",
      "34\n",
      "35\n",
      "32\n",
      "24\n",
      "25\n",
      "23\n"
     ]
    }
   ],
   "source": [
    "import itertools\n",
    "for p in itertools.permutations(\"4532\", 2):\n",
    "    print(''.join(str(x) for x in p))"
   ]
  },
  {
   "cell_type": "markdown",
   "metadata": {},
   "source": [
    "<b>5.</b> Дополните код расчетом коэффициента корреляции $x$ и $y$ по формуле\n",
    "$$R=\\frac{\\sum(x_i-x_m)(y_i-y_m)}{\\sqrt{\\sum(x_i-x_m)^2\\sum(y_i-y_m)^2}}$$"
   ]
  },
  {
   "cell_type": "code",
   "execution_count": 9,
   "metadata": {},
   "outputs": [
    {
     "data": {
      "image/png": "[encoded data removed]",
      "text/plain": [
       "<Figure size 432x288 with 1 Axes>"
      ]
     },
     "metadata": {
      "needs_background": "light"
     },
     "output_type": "display_data"
    },
    {
     "name": "stdout",
     "output_type": "stream",
     "text": [
      "0.9712555041101236\n"
     ]
    }
   ],
   "source": [
    "n = 1000\n",
    "r = 0.8\n",
    "x = np.random.rand(n)\n",
    "y = r*x + (1 - r)*np.random.rand(n)\n",
    "plt.plot(x, y, 'o')\n",
    "plt.xlabel('x')\n",
    "plt.ylabel('y')\n",
    "plt.grid(True)\n",
    "plt.show()\n",
    "# c = np.corrcoef(x, y) \n",
    "xm = np.sum(x)/n\n",
    "ym = np.sum(y)/n\n",
    "x1 = x - xm\n",
    "y1 = y - ym\n",
    "Rxy = np.sum(x1 * y1)/np.sqrt(np.sum(x1 * x1) * np.sum(y1 * y1))\n",
    "print(Rxy)"
   ]
  }
 ],
 "metadata": {
  "kernelspec": {
   "display_name": "Python 3",
   "language": "python",
   "name": "python3"
  },
  "language_info": {
   "codemirror_mode": {
    "name": "ipython",
    "version": 3
   },
   "file_extension": ".py",
   "mimetype": "text/x-python",
   "name": "python",
   "nbconvert_exporter": "python",
   "pygments_lexer": "ipython3",
   "version": "3.7.3"
  }
 },
 "nbformat": 4,
 "nbformat_minor": 2
}
