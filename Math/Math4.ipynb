{
 "cells": [
  {
   "cell_type": "code",
   "execution_count": 1,
   "metadata": {},
   "outputs": [],
   "source": [
    "import pandas as pd\n",
    "import numpy as np\n",
    "import matplotlib.pyplot as plt"
   ]
  },
  {
   "cell_type": "markdown",
   "metadata": {},
   "source": [
    "<h1>Тема “Аналитическая геометрия” и “Графики на плоскости”</h1>\n",
    "<h3>1. Задание (на листочке)</h3>\n",
    "Решите уравнение \n",
    "$$\\frac{sin(x)}x=0$$"
   ]
  },
  {
   "cell_type": "markdown",
   "metadata": {},
   "source": [
    "<h3>2. Задание (на листочке)</h3>\n",
    "Даны три прямые $y=k_1x+b_1$, $y=k_2x+b_2$, $y=k_3x+b_3$. Как узнать, пересекаются они в одной точке или нет?"
   ]
  },
  {
   "cell_type": "markdown",
   "metadata": {},
   "source": [
    "<h3>3. Задание (в программе или на листочке)</h3>\n",
    "На листе тетради «в линейку» (расстояние между линиями равно а) лежит игла (длиной b). Координаты нижней точки иглы (х,у), игла лежит под углом alfa. Пересекает ли игла линию или нет?"
   ]
  },
  {
   "cell_type": "markdown",
   "metadata": {},
   "source": [
    "<h3>4. Задание** (задание делать по желанию)</h3>\n",
    "Решите аналитически и потом численно (в программе) уравнение, зависящее от параметра а: \n",
    "$sin(аx)=0$\n",
    "при условии: $0.01<a<0.02$, $100<х<500$.\n",
    "Т.е. надо найти решение х как функцию параметра а - построить график x=x(а).\n",
    "Если численным методом не получается найти все ветви решения x(а), то отыщите хотя бы одну."
   ]
  },
  {
   "cell_type": "code",
   "execution_count": null,
   "metadata": {},
   "outputs": [],
   "source": []
  },
  {
   "cell_type": "code",
   "execution_count": null,
   "metadata": {},
   "outputs": [],
   "source": []
  },
  {
   "cell_type": "markdown",
   "metadata": {},
   "source": [
    "Найти угол $\\alpha$ между прямыми \n",
    "$4y-3x+12 = 0$ и $7y+x-14 = 0$"
   ]
  },
  {
   "cell_type": "markdown",
   "metadata": {},
   "source": []
  },
  {
   "cell_type": "markdown",
   "metadata": {},
   "source": [
    "Найти угол $\\alpha$ между прямыми \n",
    "$x = \\sqrt{2}$ и $x = \\sqrt{-3}$."
   ]
  },
  {
   "cell_type": "code",
   "execution_count": null,
   "metadata": {},
   "outputs": [],
   "source": []
  },
  {
   "cell_type": "markdown",
   "metadata": {},
   "source": [
    "Выяснить тип кривых второго порядка, порожденных следующими уравнениями.\n",
    "<p>$y^2-2x-2y-5=0$</p>\n",
    "<p>$3x^2+5y^2+12x-30y+42=0$</p>\n",
    "<p>$2x^2-y^2+6y-7=0$</p>\n",
    "<p>$2x^2-3y^2-28x-42y-55=0$</p>"
   ]
  },
  {
   "cell_type": "code",
   "execution_count": null,
   "metadata": {},
   "outputs": [],
   "source": []
  }
 ],
 "metadata": {
  "kernelspec": {
   "display_name": "Python 3",
   "language": "python",
   "name": "python3"
  },
  "language_info": {
   "codemirror_mode": {
    "name": "ipython",
    "version": 3
   },
   "file_extension": ".py",
   "mimetype": "text/x-python",
   "name": "python",
   "nbconvert_exporter": "python",
   "pygments_lexer": "ipython3",
   "version": "3.7.3"
  }
 },
 "nbformat": 4,
 "nbformat_minor": 2
}
