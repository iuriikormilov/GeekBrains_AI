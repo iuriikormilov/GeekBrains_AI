{
 "cells": [
  {
   "cell_type": "code",
   "execution_count": 1,
   "metadata": {},
   "outputs": [],
   "source": [
    "import pandas as pd\n",
    "import numpy as np\n",
    "import matplotlib.pyplot as plt"
   ]
  },
  {
   "cell_type": "markdown",
   "metadata": {},
   "source": [
    "<h1>Тема “Аналитическая геометрия” и “Графики на плоскости”</h1>\n",
    "<h3>1. Задание (на листочке)</h3>\n",
    "Решите уравнение \n",
    "$$\\frac{sin(x)}x=0$$"
   ]
  },
  {
   "cell_type": "markdown",
   "metadata": {},
   "source": [
    "$x\\neq0$ и $sinx=0$, значит $x=n\\pi$, $n \\in \\mathbb{Z}$, $n\\neq0$"
   ]
  },
  {
   "cell_type": "markdown",
   "metadata": {},
   "source": [
    "<h3>2. Задание (на листочке)</h3>\n",
    "Даны три прямые $y=k_1x+b_1$, $y=k_2x+b_2$, $y=k_3x+b_3$. Как узнать, пересекаются они в одной точке или нет?"
   ]
  },
  {
   "cell_type": "markdown",
   "metadata": {},
   "source": [
    "Все три прямые можно приравнять $k_1x+b_1=k_2x+b_2=k_3x+b_3$. Или точка пересечения первой и второй прямых будет равно точке пересечения второй и третьей (или первой и третьей) $$\\left(\\frac{b_2-b_1}{k_1-k_2},\\frac{k_1b_2-k_2b_1}{k_1-k_2}\\right)=\\left(\\frac{b_3-b_1}{k_1-k_3},\\frac{k_1b_3-k_3b_1}{k_1-k_3}\\right)=\\left(\\frac{b_2-b_3}{k_3-k_2},\\frac{k_3b_2-k_2b_3}{k_3-k_2}\\right)$$."
   ]
  },
  {
   "cell_type": "markdown",
   "metadata": {},
   "source": [
    "<h3>3. Задание (в программе или на листочке)</h3>\n",
    "На листе тетради «в линейку» (расстояние между линиями равно $а$) лежит игла (длиной $b$). Координаты нижней точки иглы $(х,у)$, игла лежит под углом $\\alpha$. Пересекает ли игла линию или нет?"
   ]
  },
  {
   "cell_type": "code",
   "execution_count": null,
   "metadata": {},
   "outputs": [],
   "source": []
  },
  {
   "cell_type": "markdown",
   "metadata": {},
   "source": [
    "<h3>4. Задание** (задание делать по желанию)</h3>\n",
    "Решите аналитически и потом численно (в программе) уравнение, зависящее от параметра а: \n",
    "$sin{(а\\cdot x)}=0$\n",
    "при условии: $0.01<a<0.02$, $100<х<500$.\n",
    "Т.е. надо найти решение х как функцию параметра а - построить график x=x(а).\n",
    "Если численным методом не получается найти все ветви решения x(а), то отыщите хотя бы одну."
   ]
  },
  {
   "cell_type": "markdown",
   "metadata": {},
   "source": [
    "$sin{(а\\cdot x)}=0$ $\\Rightarrow$  $ax=n\\pi$, $n \\in \\mathbb{Z}$ $\\Rightarrow$  $x=\\frac{n\\pi}a$, $n \\in \\mathbb{Z}$"
   ]
  },
  {
   "cell_type": "code",
   "execution_count": 2,
   "metadata": {},
   "outputs": [
    {
     "name": "stdout",
     "output_type": "stream",
     "text": [
      "157.07963267948966<x<314.1592653589793\n",
      "314.1592653589793<x<500\n",
      "471.23889803846896<x<500\n"
     ]
    },
    {
     "data": {
      "image/png": "[encoded data removed]",
      "text/plain": [
       "<Figure size 432x288 with 1 Axes>"
      ]
     },
     "metadata": {
      "needs_background": "light"
     },
     "output_type": "display_data"
    }
   ],
   "source": [
    "a = np.linspace(0.01, 0.02, 100)\n",
    "n = [1, 2, 3]\n",
    "for i in n:\n",
    "    x = i*np.pi/a\n",
    "    plt.plot(a, x)\n",
    "    plt.xlim(0.01, 0.02) \n",
    "    plt.ylim(100, 500)\n",
    "    max_x=i*np.pi/0.01\n",
    "    if max_x>500:\n",
    "        max_x=500\n",
    "    print(f\"{i*np.pi/0.02}<x<{max_x}\")"
   ]
  },
  {
   "cell_type": "markdown",
   "metadata": {},
   "source": [
    "Найти угол $\\alpha$ между прямыми \n",
    "$4y-3x+12 = 0$ и $7y+x-14 = 0$"
   ]
  },
  {
   "cell_type": "markdown",
   "metadata": {},
   "source": [
    "Приведем прямые к виду $y=kx+b$: $y=\\frac{3}4 x-3$ $y=-\\frac{y}7+2$\n",
    "$$\\alpha=\\arctan \\left| \\frac{3/4+1/7}{1-3/4\\cdot1/7} \\right|$$"
   ]
  },
  {
   "cell_type": "code",
   "execution_count": 3,
   "metadata": {},
   "outputs": [
    {
     "data": {
      "text/plain": [
       "45.0"
      ]
     },
     "execution_count": 3,
     "metadata": {},
     "output_type": "execute_result"
    }
   ],
   "source": [
    "alpha = np.arctan(np.abs((3/4+1/7)/(1-(3/4)*(1/7))))\n",
    "alpha*180/np.pi # Угол между прямыми равен 45 градусам"
   ]
  },
  {
   "cell_type": "markdown",
   "metadata": {},
   "source": [
    "Найти угол $\\alpha$ между прямыми \n",
    "$x = \\sqrt{2}$ и $x = \\sqrt{-3}$."
   ]
  },
  {
   "cell_type": "markdown",
   "metadata": {},
   "source": [
    "Прямые параллельны, следовательно угол между ними равен 0"
   ]
  },
  {
   "cell_type": "markdown",
   "metadata": {},
   "source": [
    "Выяснить тип кривых второго порядка, порожденных следующими уравнениями.\n",
    "<p>$y^2-2x-2y-5=0$</p> парабола\n",
    "<p>$3x^2+5y^2+12x-30y+42=0$</p> элипс\n",
    "<p>$2x^2-y^2+6y-7=0$</p> гипербола \n",
    "<p>$2x^2-3y^2-28x-42y-55=0$</p> гипербола "
   ]
  },
  {
   "cell_type": "code",
   "execution_count": null,
   "metadata": {},
   "outputs": [],
   "source": []
  }
 ],
 "metadata": {
  "kernelspec": {
   "display_name": "Python 3",
   "language": "python",
   "name": "python3"
  },
  "language_info": {
   "codemirror_mode": {
    "name": "ipython",
    "version": 3
   },
   "file_extension": ".py",
   "mimetype": "text/x-python",
   "name": "python",
   "nbconvert_exporter": "python",
   "pygments_lexer": "ipython3",
   "version": "3.7.3"
  }
 },
 "nbformat": 4,
 "nbformat_minor": 2
}
