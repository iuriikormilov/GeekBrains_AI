{
 "cells": [
  {
   "cell_type": "markdown",
   "metadata": {},
   "source": [
    "<h3>Урок 1</h3>\n",
    "<h3>Случайные события. Условная вероятность. Формула Байеса. Независимые испытания</h3>"
   ]
  },
  {
   "cell_type": "code",
   "execution_count": 1,
   "metadata": {},
   "outputs": [],
   "source": [
    "import numpy as np\n",
    "\n",
    "def combinations(n: int, k: int) -> int:\n",
    "    \"\"\"Число сочетаний.\n",
    "    \"\"\"\n",
    "    \n",
    "    return np.math.factorial(n) // (np.math.factorial(k) * np.math.factorial(n - k))\n",
    "\n",
    "def permutations(n: int) -> int:\n",
    "    \"\"\"Число перестановок.\n",
    "    \"\"\"\n",
    "    \n",
    "    return np.math.factorial(n)\n",
    "\n",
    "def arrangements(n: int, k: int) -> int:\n",
    "    \"\"\"Число размещений.\n",
    "    \"\"\"\n",
    "    \n",
    "    return np.math.factorial(n) // np.math.factorial(n - k)"
   ]
  },
  {
   "cell_type": "markdown",
   "metadata": {},
   "source": [
    "__Задача 1__\n",
    "\n",
    "Из колоды в 52 карты вынимают случайным образом 4 карты. Найти число исходов, соответствующих тому, что был вытянут хотя бы один туз."
   ]
  },
  {
   "cell_type": "markdown",
   "metadata": {},
   "source": [
    "Посчитаем количество способов выбрать 4 карты (воспользуемся формулой сочетаний):"
   ]
  },
  {
   "cell_type": "code",
   "execution_count": 2,
   "metadata": {},
   "outputs": [
    {
     "data": {
      "text/plain": [
       "270725"
      ]
     },
     "execution_count": 2,
     "metadata": {},
     "output_type": "execute_result"
    }
   ],
   "source": [
    "combinations(52, 4)"
   ]
  },
  {
   "cell_type": "markdown",
   "metadata": {},
   "source": [
    "Хотя бы один туз подразумевает ситуации, когда туз один, два, три или четыре, вместо того чтобы рассматривать эти четыре ситуации, рассмотрим количество исходов когда тузов в выбранных картах нет и вычтем это значение из количество способов выбрать 4 карты:"
   ]
  },
  {
   "cell_type": "code",
   "execution_count": 3,
   "metadata": {},
   "outputs": [
    {
     "data": {
      "text/plain": [
       "194580"
      ]
     },
     "execution_count": 3,
     "metadata": {},
     "output_type": "execute_result"
    }
   ],
   "source": [
    "combinations(48, 4)"
   ]
  },
  {
   "cell_type": "markdown",
   "metadata": {},
   "source": [
    "Ответ: 76145"
   ]
  },
  {
   "cell_type": "code",
   "execution_count": 4,
   "metadata": {},
   "outputs": [
    {
     "data": {
      "text/plain": [
       "76145"
      ]
     },
     "execution_count": 4,
     "metadata": {},
     "output_type": "execute_result"
    }
   ],
   "source": [
    "combinations(52, 4) - combinations(48, 4)"
   ]
  },
  {
   "cell_type": "markdown",
   "metadata": {},
   "source": [
    "__Задача 2__\n",
    "\n",
    "Семь человек рассаживаются наудачу на скамейке. Какова вероятность того, что рядом будут сидеть: а) два определённых человека? б) три определённых человека?"
   ]
  },
  {
   "cell_type": "markdown",
   "metadata": {},
   "source": [
    "Количество вариантов расположиться на скамейке permutations(7).\n",
    "Для варианта а): Всего вариантов сесть рядом для двух человек - 6. При этом каждая пара человек может сесть двумя способами. Остальные пять также могут сесть различными способами - permutations(5). Ответ: 0.2857142857142857\n",
    "Аналогично для варианта б). Ответ: 0.14285714285714285"
   ]
  },
  {
   "cell_type": "code",
   "execution_count": 5,
   "metadata": {},
   "outputs": [],
   "source": [
    "A = 6 * 2 * permutations(5)\n",
    "B = 5 * permutations(3) * permutations(4)"
   ]
  },
  {
   "cell_type": "code",
   "execution_count": 6,
   "metadata": {},
   "outputs": [
    {
     "data": {
      "text/plain": [
       "0.2857142857142857"
      ]
     },
     "execution_count": 6,
     "metadata": {},
     "output_type": "execute_result"
    }
   ],
   "source": [
    "A/permutations(7)"
   ]
  },
  {
   "cell_type": "code",
   "execution_count": 7,
   "metadata": {},
   "outputs": [
    {
     "data": {
      "text/plain": [
       "0.14285714285714285"
      ]
     },
     "execution_count": 7,
     "metadata": {},
     "output_type": "execute_result"
    }
   ],
   "source": [
    "B/permutations(7)"
   ]
  },
  {
   "cell_type": "markdown",
   "metadata": {},
   "source": [
    "__Задача 3__\n",
    "\n",
    "Из 60 вопросов, входящих в экзаменационные билеты, студент знает 50. Какова вероятность того, что среди трёх наугад выбранных вопросов студент знает: а) все? б) два?"
   ]
  },
  {
   "cell_type": "markdown",
   "metadata": {},
   "source": [
    "Тут два варианта решения:\n",
    "<p>1) вероятность вытащить вопрос который студент знает в первый раз:  50/60, во второй 49/59, в третий 48/58 (Для второй задачи похоже, за исключением того, что ситуации, когда вытаскивается вопрос, который студент не знает 3)</p>\n",
    "<p>2) через сочетания: определяем общее число всех возможных исходов, определяем число вариантов удовлетворяющих условию, находим отношение\n",
    "    </p>"
   ]
  },
  {
   "cell_type": "code",
   "execution_count": 8,
   "metadata": {},
   "outputs": [
    {
     "data": {
      "text/plain": [
       "0.5727644652250146"
      ]
     },
     "execution_count": 8,
     "metadata": {},
     "output_type": "execute_result"
    }
   ],
   "source": [
    "# (50*49*48)/(60*59*58)\n",
    "\n",
    "combinations(60, 3) # общее число возможных элементарных исходов\n",
    "combinations(50, 3) # число выпадения 3 вопросов, которые он знает\n",
    "combinations(50, 3) / combinations(60, 3)"
   ]
  },
  {
   "cell_type": "code",
   "execution_count": 9,
   "metadata": {},
   "outputs": [
    {
     "data": {
      "text/plain": [
       "0.35797779076563413"
      ]
     },
     "execution_count": 9,
     "metadata": {},
     "output_type": "execute_result"
    }
   ],
   "source": [
    "# 3*(50*49*10)/(60*59*58)\n",
    "\n",
    "combinations(60, 3) # общее число возможных элементарных исходов\n",
    "combinations(50, 2) # число выпадения 2 вопросов, которые он знает\n",
    "# 10 - число выпадения вопроса который он не знает\n",
    "10 * combinations(50, 2) / combinations(60, 3)"
   ]
  },
  {
   "cell_type": "markdown",
   "metadata": {},
   "source": [
    "__Задача 4__\n",
    "\n",
    "Бросается игральная кость. Пусть событие `A` - появление чётного числа, событие `B` - появление числа больше трёх. Являются ли эти события независимыми?"
   ]
  },
  {
   "cell_type": "markdown",
   "metadata": {},
   "source": [
    "Вероятность события A = 1/3, вероятность события В = 1/2\n",
    "\n",
    "\n",
    "Для независимых событий: $$P(AB) = P(A) \\cdot P(B)$$\n",
    "Вероятность события АВ, т.е. выпадение или 4 или 6, равно 2/6 или 1/3. \n",
    "1/3 не равно 1/6 следовательно события зависимы"
   ]
  },
  {
   "cell_type": "markdown",
   "metadata": {},
   "source": [
    "__Задача 5__\n",
    "\n",
    "Допустим, имеется некоторая очень редкая болезнь (поражает 0.1% населения). Вы приходите к врачу, вам делают тест на эту болезнь, и тест оказывается положительным. Врач говорит вам, что этот тест верно выявляет 99% больных этой болезнью и всего лишь в 1% случаев даёт ложный положительный ответ.\n",
    "\n",
    "_Вопрос_: какова вероятность, что вы действительно больны ей?\n",
    "\n",
    "_Подсказка_: вновь используйте формулу Байеса с раскрытием знаменателя с помощью формулы полной вероятности."
   ]
  },
  {
   "cell_type": "markdown",
   "metadata": {},
   "source": [
    "б - больные, з - здоровые\n",
    "\n",
    "P(б) = 0.001; Р(з) = 0.999\n",
    "\n",
    "\"+\" - диагностика болезни\n",
    "\n",
    "P(б+) = 0.99 ; Р(з+) = 0.01\n"
   ]
  },
  {
   "cell_type": "markdown",
   "metadata": {},
   "source": [
    "Вероятность, что тест диагностирует болезнь: Р(б)Р(б+) + Р(з)Р(з+) = 0.01098\n",
    "Вероятность того, что у больного диагностировали болезнь: Р(б)Р(б+) = 0.00099\n",
    "Вероятность того, человек болен, если у него диагностировали болезнь: \n",
    "(0.1, вероятность ошибки целых 10%? честно меня немного смущает ответ)"
   ]
  },
  {
   "cell_type": "code",
   "execution_count": 10,
   "metadata": {},
   "outputs": [
    {
     "data": {
      "text/plain": [
       "0.09016393442622951"
      ]
     },
     "execution_count": 10,
     "metadata": {},
     "output_type": "execute_result"
    }
   ],
   "source": [
    "(0.001*0.99) / (0.001*0.99 + 0.999*0.01)"
   ]
  },
  {
   "cell_type": "code",
   "execution_count": null,
   "metadata": {},
   "outputs": [],
   "source": []
  }
 ],
 "metadata": {
  "kernelspec": {
   "display_name": "Python 3",
   "language": "python",
   "name": "python3"
  },
  "language_info": {
   "codemirror_mode": {
    "name": "ipython",
    "version": 3
   },
   "file_extension": ".py",
   "mimetype": "text/x-python",
   "name": "python",
   "nbconvert_exporter": "python",
   "pygments_lexer": "ipython3",
   "version": "3.7.3"
  }
 },
 "nbformat": 4,
 "nbformat_minor": 2
}
